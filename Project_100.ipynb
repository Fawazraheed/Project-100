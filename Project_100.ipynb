{
  "nbformat": 4,
  "nbformat_minor": 0,
  "metadata": {
    "colab": {
      "provenance": []
    },
    "kernelspec": {
      "name": "python3",
      "display_name": "Python 3"
    },
    "language_info": {
      "name": "python"
    }
  },
  "cells": [
    {
      "cell_type": "code",
      "execution_count": 3,
      "metadata": {
        "colab": {
          "base_uri": "https://localhost:8080/"
        },
        "id": "_AuO2y8wdcKx",
        "outputId": "f443d20b-55e2-4022-873d-bf15e5c3a5a4"
      },
      "outputs": [
        {
          "output_type": "stream",
          "name": "stdout",
          "text": [
            "You have 200\n",
            "you withdrew 150\n"
          ]
        }
      ],
      "source": [
        "class Atm:\n",
        "  def __init__ (self,cardnumber,pin):\n",
        "    self.cardnumber=cardnumber\n",
        "    self.pin=pin\n",
        "  def check_balance(self):\n",
        "     print(\"You have\",200)\n",
        "  def cash_withdrawl (self):\n",
        "    print(\"you withdrew 150\")\n",
        "\n",
        "finance=Atm(\"five\",8909)\n",
        "finance.check_balance()\n",
        "finance.cash_withdrawl()\n",
        "\n"
      ]
    }
  ]
}